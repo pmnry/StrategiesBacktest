{
 "cells": [
  {
   "cell_type": "code",
   "execution_count": 131,
   "metadata": {},
   "outputs": [],
   "source": [
    "import os\n",
    "from sqlalchemy import create_engine\n",
    "import pandas as pd\n",
    "import numpy as np\n",
    "from sklearn.pipeline import Pipeline\n",
    "from sklearn.model_selection import train_test_split, TimeSeriesSplit, GridSearchCV\n",
    "from sklearn.preprocessing import LabelEncoder, StandardScaler\n",
    "from sklearn.compose import ColumnTransformer\n",
    "from sklearn.naive_bayes import GaussianNB\n",
    "from sklearn.svm import LinearSVC\n",
    "from sklearn.linear_model import LogisticRegression\n",
    "from sklearn.ensemble import AdaBoostClassifier, RandomForestClassifier\n",
    "from sklearn.metrics import accuracy_score, f1_score, precision_score\n",
    "from scipy.stats import norm\n",
    "import scipy.optimize as opt\n",
    "import yfinance as yf\n",
    "import nasdaqdatalink\n",
    "import quantstats as qs\n",
    "from scipy import interpolate\n",
    "from scipy import ndimage\n",
    "import datetime as dt\n",
    "import bt\n",
    "import trading_calendars as tc\n",
    "import pandas_market_calendars as mcal\n",
    "\n",
    "import seaborn as sns\n",
    "import matplotlib.pyplot as plt\n",
    "import plotly.express as px\n",
    "import plotly.graph_objects as go\n",
    "from plotly.subplots import make_subplots\n",
    "from plotly.offline import init_notebook_mode, iplot"
   ]
  },
  {
   "cell_type": "markdown",
   "metadata": {},
   "source": [
    "# Buy and Hold"
   ]
  },
  {
   "cell_type": "markdown",
   "metadata": {},
   "source": [
    "## Portfolio 1 40% fixed income (20% SHY, 20% TLT) 40% equities (20% VTI, 20% IWN) and 20% gold (GLD)"
   ]
  },
  {
   "cell_type": "code",
   "execution_count": 4,
   "metadata": {},
   "outputs": [
    {
     "name": "stdout",
     "output_type": "stream",
     "text": [
      "[*********************100%***********************]  5 of 5 completed\n",
      "\n",
      "3 Failed downloads:\n",
      "- ^VTI: No data found for this date range, symbol may be delisted\n",
      "- ^IWN: No data found for this date range, symbol may be delisted\n",
      "- ^GLD: No data found for this date range, symbol may be delisted\n"
     ]
    }
   ],
   "source": [
    "tickers = yf.Tickers('shy tlt vti iwn gld')\n",
    "df = tickers.history(period='max')\n",
    "df = df.dropna(how='any', axis=0, inplace=False)"
   ]
  },
  {
   "cell_type": "code",
   "execution_count": 44,
   "metadata": {},
   "outputs": [],
   "source": [
    "close_df = df['Close'].copy(deep=True)\n",
    "\n",
    "target_df = close_df.copy(deep=True)\n",
    "target_df = target_df*0 + 0.2\n",
    "\n",
    "s = bt.Strategy('Portfolio1', [bt.algos.SelectAll(),\n",
    "                           bt.algos.WeighTarget(target_df),\n",
    "                           bt.algos.Rebalance()])\n",
    "\n",
    "t = bt.Backtest(s, close_df)\n",
    "res= bt.run(t)"
   ]
  },
  {
   "cell_type": "code",
   "execution_count": 45,
   "metadata": {},
   "outputs": [
    {
     "name": "stdout",
     "output_type": "stream",
     "text": [
      "Stat                 Portfolio1\n",
      "-------------------  ------------\n",
      "Start                2004-11-17\n",
      "End                  2022-03-11\n",
      "Risk-free rate       0.00%\n",
      "\n",
      "Total Return         272.87%\n",
      "Daily Sharpe         0.89\n",
      "Daily Sortino        1.43\n",
      "CAGR                 7.90%\n",
      "Max Drawdown         -20.16%\n",
      "Calmar Ratio         0.39\n",
      "\n",
      "MTD                  -1.01%\n",
      "3m                   -2.91%\n",
      "6m                   -1.39%\n",
      "YTD                  -3.95%\n",
      "1Y                   2.60%\n",
      "3Y (ann.)            11.16%\n",
      "5Y (ann.)            8.66%\n",
      "10Y (ann.)           6.77%\n",
      "Since Incep. (ann.)  7.90%\n",
      "\n",
      "Daily Sharpe         0.89\n",
      "Daily Sortino        1.43\n",
      "Daily Mean (ann.)    8.02%\n",
      "Daily Vol (ann.)     9.00%\n",
      "Daily Skew           -0.35\n",
      "Daily Kurt           9.07\n",
      "Best Day             4.21%\n",
      "Worst Day            -4.89%\n",
      "\n",
      "Monthly Sharpe       1.04\n",
      "Monthly Sortino      1.88\n",
      "Monthly Mean (ann.)  7.88%\n",
      "Monthly Vol (ann.)   7.54%\n",
      "Monthly Skew         -0.65\n",
      "Monthly Kurt         3.51\n",
      "Best Month           7.12%\n",
      "Worst Month          -10.59%\n",
      "\n",
      "Yearly Sharpe        1.06\n",
      "Yearly Sortino       4.85\n",
      "Yearly Mean          7.74%\n",
      "Yearly Vol           7.32%\n",
      "Yearly Skew          -0.50\n",
      "Yearly Kurt          -0.71\n",
      "Best Year            17.90%\n",
      "Worst Year           -3.95%\n",
      "\n",
      "Avg. Drawdown        -1.18%\n",
      "Avg. Drawdown Days   20.56\n",
      "Avg. Up Month        1.80%\n",
      "Avg. Down Month      -1.50%\n",
      "Win Year %           77.78%\n",
      "Win 12m %            89.39%\n"
     ]
    }
   ],
   "source": [
    "res.display()"
   ]
  },
  {
   "cell_type": "code",
   "execution_count": 50,
   "metadata": {},
   "outputs": [
    {
     "data": {
      "text/plain": [
       "<AxesSubplot:title={'center':'Equity Progression'}>"
      ]
     },
     "execution_count": 50,
     "metadata": {},
     "output_type": "execute_result"
    }
   ],
   "source": [
    "res.plot()"
   ]
  },
  {
   "cell_type": "markdown",
   "metadata": {},
   "source": [
    "## Portfolio 2 70% in bonds (AGG), 25% in cash (BIL), and 5% in REITs (VNQ)"
   ]
  },
  {
   "cell_type": "code",
   "execution_count": 51,
   "metadata": {},
   "outputs": [
    {
     "name": "stdout",
     "output_type": "stream",
     "text": [
      "[*********************100%***********************]  3 of 3 completed\n"
     ]
    }
   ],
   "source": [
    "tickers = yf.Tickers('agg bil vnq')\n",
    "df = tickers.history(period='max')\n",
    "df = df.dropna(how='any', axis=0, inplace=False)"
   ]
  },
  {
   "cell_type": "code",
   "execution_count": 52,
   "metadata": {},
   "outputs": [],
   "source": [
    "close_df = df['Close'].copy(deep=True)\n",
    "\n",
    "target_df = close_df.copy(deep=True)\n",
    "target_df = target_df*0 + 0.2\n",
    "\n",
    "s = bt.Strategy('Portfolio1', [bt.algos.SelectAll(),\n",
    "                           bt.algos.WeighTarget(target_df),\n",
    "                           bt.algos.Rebalance()])\n",
    "\n",
    "t = bt.Backtest(s, close_df)\n",
    "res= bt.run(t)"
   ]
  },
  {
   "cell_type": "code",
   "execution_count": 53,
   "metadata": {},
   "outputs": [
    {
     "name": "stdout",
     "output_type": "stream",
     "text": [
      "Stat                 Portfolio1\n",
      "-------------------  ------------\n",
      "Start                2007-05-29\n",
      "End                  2022-03-11\n",
      "Risk-free rate       0.00%\n",
      "\n",
      "Total Return         53.31%\n",
      "Daily Sharpe         0.48\n",
      "Daily Sortino        0.76\n",
      "CAGR                 2.93%\n",
      "Max Drawdown         -16.60%\n",
      "Calmar Ratio         0.18\n",
      "\n",
      "MTD                  -0.10%\n",
      "3m                   -2.01%\n",
      "6m                   -1.25%\n",
      "YTD                  -3.10%\n",
      "1Y                   2.86%\n",
      "3Y (ann.)            3.30%\n",
      "5Y (ann.)            2.96%\n",
      "10Y (ann.)           2.71%\n",
      "Since Incep. (ann.)  2.93%\n",
      "\n",
      "Daily Sharpe         0.48\n",
      "Daily Sortino        0.76\n",
      "Daily Mean (ann.)    3.10%\n",
      "Daily Vol (ann.)     6.43%\n",
      "Daily Skew           0.03\n",
      "Daily Kurt           14.93\n",
      "Best Day             3.40%\n",
      "Worst Day            -3.57%\n",
      "\n",
      "Monthly Sharpe       0.61\n",
      "Monthly Sortino      1.01\n",
      "Monthly Mean (ann.)  3.02%\n",
      "Monthly Vol (ann.)   4.98%\n",
      "Monthly Skew         -0.38\n",
      "Monthly Kurt         6.07\n",
      "Best Month           6.31%\n",
      "Worst Month          -6.94%\n",
      "\n",
      "Yearly Sharpe        0.80\n",
      "Yearly Sortino       2.96\n",
      "Yearly Mean          3.12%\n",
      "Yearly Vol           3.89%\n",
      "Yearly Skew          -0.03\n",
      "Yearly Kurt          -0.94\n",
      "Best Year            9.66%\n",
      "Worst Year           -3.10%\n",
      "\n",
      "Avg. Drawdown        -0.71%\n",
      "Avg. Drawdown Days   28.52\n",
      "Avg. Up Month        1.02%\n",
      "Avg. Down Month      -1.05%\n",
      "Win Year %           80.00%\n",
      "Win 12m %            83.33%\n"
     ]
    }
   ],
   "source": [
    "res.display()"
   ]
  },
  {
   "cell_type": "code",
   "execution_count": null,
   "metadata": {},
   "outputs": [],
   "source": []
  },
  {
   "cell_type": "markdown",
   "metadata": {},
   "source": [
    "# Tactical Allocation"
   ]
  },
  {
   "cell_type": "markdown",
   "metadata": {},
   "source": [
    "## Portfolio 3: 20% equal weight in VTI VEU VNQ AGG DBC\n",
    "\n",
    "Compute the 10-day MA at the end of each month. If price > 10-day allocate the 20% in the given investment else cash."
   ]
  },
  {
   "cell_type": "code",
   "execution_count": 77,
   "metadata": {},
   "outputs": [
    {
     "name": "stdout",
     "output_type": "stream",
     "text": [
      "[*********************100%***********************]  6 of 6 completed\n"
     ]
    }
   ],
   "source": [
    "tickers = yf.Tickers('vti veu vnq agg dbc bil')\n",
    "df = tickers.history(period='max')\n",
    "df = df.dropna(how='any', axis=0, inplace=False)"
   ]
  },
  {
   "cell_type": "code",
   "execution_count": 78,
   "metadata": {},
   "outputs": [],
   "source": [
    "close_df = df['Close'].copy(deep=True)\n",
    "ma_df = df['Close'].rolling(10).mean().dropna()"
   ]
  },
  {
   "cell_type": "code",
   "execution_count": 198,
   "metadata": {},
   "outputs": [],
   "source": [
    "dateIndex = close_df.reset_index()['Date']\n",
    "\n",
    "dateIndex = pd.DataFrame(dateIndex)\n",
    "dateIndex['YEAR'] = dateIndex['Date'].apply(lambda x: x.year)\n",
    "dateIndex['MONTH'] = dateIndex['Date'].apply(lambda x: x.month)\n",
    "dateIndex['DAY'] = dateIndex['Date'].apply(lambda x: x.day)\n",
    "dateIndex = dateIndex.groupby(['YEAR', 'MONTH']).max()['Date'].values\n",
    "\n",
    "target_df = pd.DataFrame(index=dateIndex, columns=close_df.columns)\n",
    "target_df = target_df.iloc[1:,:]"
   ]
  },
  {
   "cell_type": "code",
   "execution_count": 201,
   "metadata": {},
   "outputs": [],
   "source": [
    "for i in target_df.index:\n",
    "    bil_alloc = 0.0\n",
    "    for tick in ['VTI', 'VEU', 'VNQ', 'AGG', 'DBC']:\n",
    "        if ma_df.loc[i, tick] > close_df.loc[i, tick]:\n",
    "            target_df.loc[i, tick] = 0.2\n",
    "        else:\n",
    "            bil_alloc += 0.2\n",
    "            target_df.loc[i, tick] = 0.0\n",
    "            \n",
    "    target_df.loc[i, \"BIL\"] = bil_alloc"
   ]
  },
  {
   "cell_type": "code",
   "execution_count": 207,
   "metadata": {},
   "outputs": [],
   "source": [
    "s = bt.Strategy('Portfolio3', [bt.algos.SelectAll(),\n",
    "                           bt.algos.WeighTarget(target_df),\n",
    "                           bt.algos.Rebalance()])\n",
    "\n",
    "t = bt.Backtest(s, close_df)\n",
    "res= bt.run(t)"
   ]
  },
  {
   "cell_type": "code",
   "execution_count": 208,
   "metadata": {},
   "outputs": [
    {
     "name": "stdout",
     "output_type": "stream",
     "text": [
      "Stat                 Portfolio3\n",
      "-------------------  ------------\n",
      "Start                2007-05-29\n",
      "End                  2022-03-11\n",
      "Risk-free rate       0.00%\n",
      "\n",
      "Total Return         60.62%\n",
      "Daily Sharpe         0.36\n",
      "Daily Sortino        0.53\n",
      "CAGR                 3.26%\n",
      "Max Drawdown         -32.60%\n",
      "Calmar Ratio         0.10\n",
      "\n",
      "MTD                  -1.30%\n",
      "3m                   0.02%\n",
      "6m                   3.36%\n",
      "YTD                  -1.93%\n",
      "1Y                   5.42%\n",
      "3Y (ann.)            3.94%\n",
      "5Y (ann.)            3.31%\n",
      "10Y (ann.)           3.65%\n",
      "Since Incep. (ann.)  3.26%\n",
      "\n",
      "Daily Sharpe         0.36\n",
      "Daily Sortino        0.53\n",
      "Daily Mean (ann.)    3.74%\n",
      "Daily Vol (ann.)     10.27%\n",
      "Daily Skew           -0.87\n",
      "Daily Kurt           34.54\n",
      "Best Day             6.55%\n",
      "Worst Day            -9.11%\n",
      "\n",
      "Monthly Sharpe       0.40\n",
      "Monthly Sortino      0.59\n",
      "Monthly Mean (ann.)  3.61%\n",
      "Monthly Vol (ann.)   9.05%\n",
      "Monthly Skew         -1.00\n",
      "Monthly Kurt         10.77\n",
      "Best Month           10.97%\n",
      "Worst Month          -13.57%\n",
      "\n",
      "Yearly Sharpe        0.40\n",
      "Yearly Sortino       0.72\n",
      "Yearly Mean          3.40%\n",
      "Yearly Vol           8.46%\n",
      "Yearly Skew          -1.00\n",
      "Yearly Kurt          1.37\n",
      "Best Year            14.06%\n",
      "Worst Year           -17.43%\n",
      "\n",
      "Avg. Drawdown        -1.43%\n",
      "Avg. Drawdown Days   42.18\n",
      "Avg. Up Month        1.46%\n",
      "Avg. Down Month      -1.44%\n",
      "Win Year %           73.33%\n",
      "Win 12m %            81.55%\n"
     ]
    }
   ],
   "source": [
    "res.display()"
   ]
  }
 ],
 "metadata": {
  "kernelspec": {
   "display_name": "Python 3",
   "language": "python",
   "name": "python3"
  },
  "language_info": {
   "codemirror_mode": {
    "name": "ipython",
    "version": 3
   },
   "file_extension": ".py",
   "mimetype": "text/x-python",
   "name": "python",
   "nbconvert_exporter": "python",
   "pygments_lexer": "ipython3",
   "version": "3.8.5"
  }
 },
 "nbformat": 4,
 "nbformat_minor": 4
}
