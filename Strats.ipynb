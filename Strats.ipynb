{
 "cells": [
  {
   "cell_type": "code",
   "execution_count": 131,
   "metadata": {},
   "outputs": [],
   "source": [
    "import os\n",
    "from sqlalchemy import create_engine\n",
    "import pandas as pd\n",
    "import numpy as np\n",
    "from sklearn.pipeline import Pipeline\n",
    "from sklearn.model_selection import train_test_split, TimeSeriesSplit, GridSearchCV\n",
    "from sklearn.preprocessing import LabelEncoder, StandardScaler\n",
    "from sklearn.compose import ColumnTransformer\n",
    "from sklearn.naive_bayes import GaussianNB\n",
    "from sklearn.svm import LinearSVC\n",
    "from sklearn.linear_model import LogisticRegression\n",
    "from sklearn.ensemble import AdaBoostClassifier, RandomForestClassifier\n",
    "from sklearn.metrics import accuracy_score, f1_score, precision_score\n",
    "from scipy.stats import norm\n",
    "import scipy.optimize as opt\n",
    "import yfinance as yf\n",
    "import nasdaqdatalink\n",
    "import quantstats as qs\n",
    "from scipy import interpolate\n",
    "from scipy import ndimage\n",
    "import datetime as dt\n",
    "import bt\n",
    "import trading_calendars as tc\n",
    "import pandas_market_calendars as mcal\n",
    "\n",
    "import seaborn as sns\n",
    "import matplotlib.pyplot as plt\n",
    "import plotly.express as px\n",
    "import plotly.graph_objects as go\n",
    "from plotly.subplots import make_subplots\n",
    "from plotly.offline import init_notebook_mode, iplot"
   ]
  },
  {
   "cell_type": "markdown",
   "metadata": {},
   "source": [
    "# Buy and Hold"
   ]
  },
  {
   "cell_type": "markdown",
   "metadata": {},
   "source": [
    "## Portfolio 1 40% fixed income (20% SHY, 20% TLT) 40% equities (20% VTI, 20% IWN) and 20% gold (GLD)"
   ]
  },
  {
   "cell_type": "code",
   "execution_count": 4,
   "metadata": {},
   "outputs": [
    {
     "name": "stdout",
     "output_type": "stream",
     "text": [
      "[*********************100%***********************]  5 of 5 completed\n",
      "\n",
      "3 Failed downloads:\n",
      "- ^VTI: No data found for this date range, symbol may be delisted\n",
      "- ^IWN: No data found for this date range, symbol may be delisted\n",
      "- ^GLD: No data found for this date range, symbol may be delisted\n"
     ]
    }
   ],
   "source": [
    "tickers = yf.Tickers('shy tlt vti iwn gld')\n",
    "df = tickers.history(period='max')\n",
    "df = df.dropna(how='any', axis=0, inplace=False)"
   ]
  },
  {
   "cell_type": "code",
   "execution_count": 44,
   "metadata": {},
   "outputs": [],
   "source": [
    "close_df = df['Close'].copy(deep=True)\n",
    "\n",
    "target_df = close_df.copy(deep=True)\n",
    "target_df = target_df*0 + 0.2\n",
    "\n",
    "s = bt.Strategy('Portfolio1', [bt.algos.SelectAll(),\n",
    "                           bt.algos.WeighTarget(target_df),\n",
    "                           bt.algos.Rebalance()])\n",
    "\n",
    "t = bt.Backtest(s, close_df)\n",
    "res= bt.run(t)"
   ]
  },
  {
   "cell_type": "code",
   "execution_count": 45,
   "metadata": {},
   "outputs": [
    {
     "name": "stdout",
     "output_type": "stream",
     "text": [
      "Stat                 Portfolio1\n",
      "-------------------  ------------\n",
      "Start                2004-11-17\n",
      "End                  2022-03-11\n",
      "Risk-free rate       0.00%\n",
      "\n",
      "Total Return         272.87%\n",
      "Daily Sharpe         0.89\n",
      "Daily Sortino        1.43\n",
      "CAGR                 7.90%\n",
      "Max Drawdown         -20.16%\n",
      "Calmar Ratio         0.39\n",
      "\n",
      "MTD                  -1.01%\n",
      "3m                   -2.91%\n",
      "6m                   -1.39%\n",
      "YTD                  -3.95%\n",
      "1Y                   2.60%\n",
      "3Y (ann.)            11.16%\n",
      "5Y (ann.)            8.66%\n",
      "10Y (ann.)           6.77%\n",
      "Since Incep. (ann.)  7.90%\n",
      "\n",
      "Daily Sharpe         0.89\n",
      "Daily Sortino        1.43\n",
      "Daily Mean (ann.)    8.02%\n",
      "Daily Vol (ann.)     9.00%\n",
      "Daily Skew           -0.35\n",
      "Daily Kurt           9.07\n",
      "Best Day             4.21%\n",
      "Worst Day            -4.89%\n",
      "\n",
      "Monthly Sharpe       1.04\n",
      "Monthly Sortino      1.88\n",
      "Monthly Mean (ann.)  7.88%\n",
      "Monthly Vol (ann.)   7.54%\n",
      "Monthly Skew         -0.65\n",
      "Monthly Kurt         3.51\n",
      "Best Month           7.12%\n",
      "Worst Month          -10.59%\n",
      "\n",
      "Yearly Sharpe        1.06\n",
      "Yearly Sortino       4.85\n",
      "Yearly Mean          7.74%\n",
      "Yearly Vol           7.32%\n",
      "Yearly Skew          -0.50\n",
      "Yearly Kurt          -0.71\n",
      "Best Year            17.90%\n",
      "Worst Year           -3.95%\n",
      "\n",
      "Avg. Drawdown        -1.18%\n",
      "Avg. Drawdown Days   20.56\n",
      "Avg. Up Month        1.80%\n",
      "Avg. Down Month      -1.50%\n",
      "Win Year %           77.78%\n",
      "Win 12m %            89.39%\n"
     ]
    }
   ],
   "source": [
    "res.display()"
   ]
  },
  {
   "cell_type": "code",
   "execution_count": 50,
   "metadata": {},
   "outputs": [
    {
     "data": {
      "text/plain": [
       "<AxesSubplot:title={'center':'Equity Progression'}>"
      ]
     },
     "execution_count": 50,
     "metadata": {},
     "output_type": "execute_result"
    }
   ],
   "source": [
    "res.plot()"
   ]
  },
  {
   "cell_type": "markdown",
   "metadata": {},
   "source": [
    "## Portfolio 2 70% in bonds (AGG), 25% in cash (BIL), and 5% in REITs (VNQ)"
   ]
  },
  {
   "cell_type": "code",
   "execution_count": 51,
   "metadata": {},
   "outputs": [
    {
     "name": "stdout",
     "output_type": "stream",
     "text": [
      "[*********************100%***********************]  3 of 3 completed\n"
     ]
    }
   ],
   "source": [
    "tickers = yf.Tickers('agg bil vnq')\n",
    "df = tickers.history(period='max')\n",
    "df = df.dropna(how='any', axis=0, inplace=False)"
   ]
  },
  {
   "cell_type": "code",
   "execution_count": 52,
   "metadata": {},
   "outputs": [],
   "source": [
    "close_df = df['Close'].copy(deep=True)\n",
    "\n",
    "target_df = close_df.copy(deep=True)\n",
    "target_df = target_df*0 + 0.2\n",
    "\n",
    "s = bt.Strategy('Portfolio1', [bt.algos.SelectAll(),\n",
    "                           bt.algos.WeighTarget(target_df),\n",
    "                           bt.algos.Rebalance()])\n",
    "\n",
    "t = bt.Backtest(s, close_df)\n",
    "res= bt.run(t)"
   ]
  },
  {
   "cell_type": "code",
   "execution_count": 53,
   "metadata": {},
   "outputs": [
    {
     "name": "stdout",
     "output_type": "stream",
     "text": [
      "Stat                 Portfolio1\n",
      "-------------------  ------------\n",
      "Start                2007-05-29\n",
      "End                  2022-03-11\n",
      "Risk-free rate       0.00%\n",
      "\n",
      "Total Return         53.31%\n",
      "Daily Sharpe         0.48\n",
      "Daily Sortino        0.76\n",
      "CAGR                 2.93%\n",
      "Max Drawdown         -16.60%\n",
      "Calmar Ratio         0.18\n",
      "\n",
      "MTD                  -0.10%\n",
      "3m                   -2.01%\n",
      "6m                   -1.25%\n",
      "YTD                  -3.10%\n",
      "1Y                   2.86%\n",
      "3Y (ann.)            3.30%\n",
      "5Y (ann.)            2.96%\n",
      "10Y (ann.)           2.71%\n",
      "Since Incep. (ann.)  2.93%\n",
      "\n",
      "Daily Sharpe         0.48\n",
      "Daily Sortino        0.76\n",
      "Daily Mean (ann.)    3.10%\n",
      "Daily Vol (ann.)     6.43%\n",
      "Daily Skew           0.03\n",
      "Daily Kurt           14.93\n",
      "Best Day             3.40%\n",
      "Worst Day            -3.57%\n",
      "\n",
      "Monthly Sharpe       0.61\n",
      "Monthly Sortino      1.01\n",
      "Monthly Mean (ann.)  3.02%\n",
      "Monthly Vol (ann.)   4.98%\n",
      "Monthly Skew         -0.38\n",
      "Monthly Kurt         6.07\n",
      "Best Month           6.31%\n",
      "Worst Month          -6.94%\n",
      "\n",
      "Yearly Sharpe        0.80\n",
      "Yearly Sortino       2.96\n",
      "Yearly Mean          3.12%\n",
      "Yearly Vol           3.89%\n",
      "Yearly Skew          -0.03\n",
      "Yearly Kurt          -0.94\n",
      "Best Year            9.66%\n",
      "Worst Year           -3.10%\n",
      "\n",
      "Avg. Drawdown        -0.71%\n",
      "Avg. Drawdown Days   28.52\n",
      "Avg. Up Month        1.02%\n",
      "Avg. Down Month      -1.05%\n",
      "Win Year %           80.00%\n",
      "Win 12m %            83.33%\n"
     ]
    }
   ],
   "source": [
    "res.display()"
   ]
  },
  {
   "cell_type": "code",
   "execution_count": null,
   "metadata": {},
   "outputs": [],
   "source": []
  },
  {
   "cell_type": "markdown",
   "metadata": {},
   "source": [
    "# Tactical Allocation"
   ]
  },
  {
   "cell_type": "markdown",
   "metadata": {},
   "source": [
    "## Portfolio 3: 20% equal weight in VTI VEU VNQ AGG DBC\n",
    "\n",
    "Compute the 10-day MA at the end of each month. If price > 10-day allocate the 20% in the given investment else cash."
   ]
  },
  {
   "cell_type": "code",
   "execution_count": 77,
   "metadata": {},
   "outputs": [
    {
     "name": "stdout",
     "output_type": "stream",
     "text": [
      "[*********************100%***********************]  6 of 6 completed\n"
     ]
    }
   ],
   "source": [
    "tickers = yf.Tickers('vti veu vnq agg dbc bil')\n",
    "df = tickers.history(period='max')\n",
    "df = df.dropna(how='any', axis=0, inplace=False)"
   ]
  },
  {
   "cell_type": "code",
   "execution_count": 78,
   "metadata": {},
   "outputs": [],
   "source": [
    "close_df = df['Close'].copy(deep=True)\n",
    "ma_df = df['Close'].rolling(10).mean().dropna()"
   ]
  },
  {
   "cell_type": "code",
   "execution_count": 198,
   "metadata": {},
   "outputs": [],
   "source": [
    "dateIndex = close_df.reset_index()['Date']\n",
    "\n",
    "dateIndex = pd.DataFrame(dateIndex)\n",
    "dateIndex['YEAR'] = dateIndex['Date'].apply(lambda x: x.year)\n",
    "dateIndex['MONTH'] = dateIndex['Date'].apply(lambda x: x.month)\n",
    "dateIndex['DAY'] = dateIndex['Date'].apply(lambda x: x.day)\n",
    "dateIndex = dateIndex.groupby(['YEAR', 'MONTH']).max()['Date'].values\n",
    "\n",
    "target_df = pd.DataFrame(index=dateIndex, columns=close_df.columns)\n",
    "target_df = target_df.iloc[1:,:]"
   ]
  },
  {
   "cell_type": "code",
   "execution_count": 201,
   "metadata": {},
   "outputs": [],
   "source": [
    "for i in target_df.index:\n",
    "    bil_alloc = 0.0\n",
    "    for tick in ['VTI', 'VEU', 'VNQ', 'AGG', 'DBC']:\n",
    "        if ma_df.loc[i, tick] > close_df.loc[i, tick]:\n",
    "            target_df.loc[i, tick] = 0.2\n",
    "        else:\n",
    "            bil_alloc += 0.2\n",
    "            target_df.loc[i, tick] = 0.0\n",
    "            \n",
    "    target_df.loc[i, \"BIL\"] = bil_alloc"
   ]
  },
  {
   "cell_type": "code",
   "execution_count": 207,
   "metadata": {},
   "outputs": [],
   "source": [
    "s = bt.Strategy('Portfolio3', [bt.algos.SelectAll(),\n",
    "                           bt.algos.WeighTarget(target_df),\n",
    "                           bt.algos.Rebalance()])\n",
    "\n",
    "t = bt.Backtest(s, close_df)\n",
    "res= bt.run(t)"
   ]
  },
  {
   "cell_type": "code",
   "execution_count": 208,
   "metadata": {
    "scrolled": true
   },
   "outputs": [
    {
     "name": "stdout",
     "output_type": "stream",
     "text": [
      "Stat                 Portfolio3\n",
      "-------------------  ------------\n",
      "Start                2007-05-29\n",
      "End                  2022-03-11\n",
      "Risk-free rate       0.00%\n",
      "\n",
      "Total Return         60.62%\n",
      "Daily Sharpe         0.36\n",
      "Daily Sortino        0.53\n",
      "CAGR                 3.26%\n",
      "Max Drawdown         -32.60%\n",
      "Calmar Ratio         0.10\n",
      "\n",
      "MTD                  -1.30%\n",
      "3m                   0.02%\n",
      "6m                   3.36%\n",
      "YTD                  -1.93%\n",
      "1Y                   5.42%\n",
      "3Y (ann.)            3.94%\n",
      "5Y (ann.)            3.31%\n",
      "10Y (ann.)           3.65%\n",
      "Since Incep. (ann.)  3.26%\n",
      "\n",
      "Daily Sharpe         0.36\n",
      "Daily Sortino        0.53\n",
      "Daily Mean (ann.)    3.74%\n",
      "Daily Vol (ann.)     10.27%\n",
      "Daily Skew           -0.87\n",
      "Daily Kurt           34.54\n",
      "Best Day             6.55%\n",
      "Worst Day            -9.11%\n",
      "\n",
      "Monthly Sharpe       0.40\n",
      "Monthly Sortino      0.59\n",
      "Monthly Mean (ann.)  3.61%\n",
      "Monthly Vol (ann.)   9.05%\n",
      "Monthly Skew         -1.00\n",
      "Monthly Kurt         10.77\n",
      "Best Month           10.97%\n",
      "Worst Month          -13.57%\n",
      "\n",
      "Yearly Sharpe        0.40\n",
      "Yearly Sortino       0.72\n",
      "Yearly Mean          3.40%\n",
      "Yearly Vol           8.46%\n",
      "Yearly Skew          -1.00\n",
      "Yearly Kurt          1.37\n",
      "Best Year            14.06%\n",
      "Worst Year           -17.43%\n",
      "\n",
      "Avg. Drawdown        -1.43%\n",
      "Avg. Drawdown Days   42.18\n",
      "Avg. Up Month        1.46%\n",
      "Avg. Down Month      -1.44%\n",
      "Win Year %           73.33%\n",
      "Win 12m %            81.55%\n"
     ]
    }
   ],
   "source": [
    "res.display()"
   ]
  },
  {
   "cell_type": "markdown",
   "metadata": {},
   "source": [
    "## Portfolio 4: 10% VNQ, 20% IEF, 20% DBC, 20% MTUM, 10% IWD, 10% EFA, 10% EFV\n",
    "\n",
    "- On the last trading day of the month, determine if \n",
    "    - the 12-month return of the asset > 12-month return of BIL\n",
    "    - the closing price > 12-month moving average\n",
    "    \n",
    "- if yes to both of the above 100% weighting, if yes for only one then 50% cash 50% weighting, if no to both 100% cash"
   ]
  },
  {
   "cell_type": "code",
   "execution_count": 209,
   "metadata": {},
   "outputs": [
    {
     "name": "stdout",
     "output_type": "stream",
     "text": [
      "[*********************100%***********************]  8 of 8 completed\n"
     ]
    }
   ],
   "source": [
    "tickers = yf.Tickers('VNQ IEF DBC MTUM IWD EFA EFV BIL')\n",
    "df = tickers.history(period='max')\n",
    "df = df.dropna(how='any', axis=0, inplace=False)"
   ]
  },
  {
   "cell_type": "code",
   "execution_count": 211,
   "metadata": {},
   "outputs": [],
   "source": [
    "close_df = df['Close'].copy(deep=True)"
   ]
  },
  {
   "cell_type": "code",
   "execution_count": 213,
   "metadata": {},
   "outputs": [],
   "source": [
    "dateIndex = close_df.reset_index()['Date']\n",
    "\n",
    "dateIndex = pd.DataFrame(dateIndex)\n",
    "dateIndex['YEAR'] = dateIndex['Date'].apply(lambda x: x.year)\n",
    "dateIndex['MONTH'] = dateIndex['Date'].apply(lambda x: x.month)\n",
    "dateIndex['DAY'] = dateIndex['Date'].apply(lambda x: x.day)\n",
    "dateIndex = dateIndex.groupby(['YEAR', 'MONTH']).max()['Date'].values\n",
    "\n",
    "target_df = pd.DataFrame(index=dateIndex, columns=close_df.columns)\n",
    "target_df = target_df.iloc[1:,:]"
   ]
  },
  {
   "cell_type": "code",
   "execution_count": 236,
   "metadata": {},
   "outputs": [],
   "source": [
    "monthly_close_df = close_df.loc[dateIndex]\n",
    "ma_df = monthly_close_df.rolling(12).mean().dropna()\n",
    "average_rets = monthly_close_df.pct_change(1).rolling(12).mean().dropna()"
   ]
  },
  {
   "cell_type": "code",
   "execution_count": 250,
   "metadata": {},
   "outputs": [],
   "source": [
    "target_df = target_df.loc[average_rets.iloc[0].name:]"
   ]
  },
  {
   "cell_type": "code",
   "execution_count": 251,
   "metadata": {},
   "outputs": [
    {
     "name": "stderr",
     "output_type": "stream",
     "text": [
      "C:\\ProgramData\\Anaconda3\\lib\\site-packages\\pandas\\core\\indexing.py:670: SettingWithCopyWarning:\n",
      "\n",
      "\n",
      "A value is trying to be set on a copy of a slice from a DataFrame\n",
      "\n",
      "See the caveats in the documentation: https://pandas.pydata.org/pandas-docs/stable/user_guide/indexing.html#returning-a-view-versus-a-copy\n",
      "\n",
      "<ipython-input-251-4ea4b8c8745a>:7: SettingWithCopyWarning:\n",
      "\n",
      "\n",
      "A value is trying to be set on a copy of a slice from a DataFrame\n",
      "\n",
      "See the caveats in the documentation: https://pandas.pydata.org/pandas-docs/stable/user_guide/indexing.html#returning-a-view-versus-a-copy\n",
      "\n",
      "<ipython-input-251-4ea4b8c8745a>:9: SettingWithCopyWarning:\n",
      "\n",
      "\n",
      "A value is trying to be set on a copy of a slice from a DataFrame\n",
      "\n",
      "See the caveats in the documentation: https://pandas.pydata.org/pandas-docs/stable/user_guide/indexing.html#returning-a-view-versus-a-copy\n",
      "\n",
      "<ipython-input-251-4ea4b8c8745a>:15: SettingWithCopyWarning:\n",
      "\n",
      "\n",
      "A value is trying to be set on a copy of a slice from a DataFrame\n",
      "\n",
      "See the caveats in the documentation: https://pandas.pydata.org/pandas-docs/stable/user_guide/indexing.html#returning-a-view-versus-a-copy\n",
      "\n",
      "<ipython-input-251-4ea4b8c8745a>:13: SettingWithCopyWarning:\n",
      "\n",
      "\n",
      "A value is trying to be set on a copy of a slice from a DataFrame\n",
      "\n",
      "See the caveats in the documentation: https://pandas.pydata.org/pandas-docs/stable/user_guide/indexing.html#returning-a-view-versus-a-copy\n",
      "\n"
     ]
    }
   ],
   "source": [
    "ref_weights = {'VNQ': 0.1, 'IEF': 0.2, 'DBC': 0.2, 'MTUM': 0.2, 'IWD': 0.1, 'EFA': 0.1, 'EFV': 0.1}\n",
    "\n",
    "for i in target_df.index:\n",
    "    bil_alloc = 0.0\n",
    "    for tick in ref_weights.keys():\n",
    "        if (average_rets.loc[i, tick] > average_rets.loc[i, 'BIL']) and (close_df.loc[i, tick] > ma_df.loc[i, tick]):\n",
    "            target_df.loc[i, tick] = ref_weights[tick]\n",
    "        elif (average_rets.loc[i, tick] > average_rets.loc[i, 'BIL']) or (close_df.loc[i, tick] > ma_df.loc[i, tick]):\n",
    "            target_df.loc[i, tick] = ref_weights[tick] * 0.5\n",
    "            bil_alloc += ref_weights[tick] * 0.5\n",
    "        else:\n",
    "            bil_alloc += ref_weights[tick]\n",
    "            target_df.loc[i, tick] = 0.0\n",
    "            \n",
    "    target_df.loc[i, \"BIL\"] = bil_alloc"
   ]
  },
  {
   "cell_type": "code",
   "execution_count": 252,
   "metadata": {},
   "outputs": [],
   "source": [
    "s = bt.Strategy('Portfolio3', [bt.algos.SelectAll(),\n",
    "                           bt.algos.WeighTarget(target_df),\n",
    "                           bt.algos.Rebalance()])\n",
    "\n",
    "t = bt.Backtest(s, close_df)\n",
    "res= bt.run(t)"
   ]
  },
  {
   "cell_type": "code",
   "execution_count": 253,
   "metadata": {},
   "outputs": [
    {
     "name": "stdout",
     "output_type": "stream",
     "text": [
      "Stat                 Portfolio3\n",
      "-------------------  ------------\n",
      "Start                2013-04-17\n",
      "End                  2022-03-11\n",
      "Risk-free rate       0.00%\n",
      "\n",
      "Total Return         44.34%\n",
      "Daily Sharpe         0.65\n",
      "Daily Sortino        0.97\n",
      "CAGR                 4.21%\n",
      "Max Drawdown         -13.47%\n",
      "Calmar Ratio         0.31\n",
      "\n",
      "MTD                  0.47%\n",
      "3m                   0.45%\n",
      "6m                   1.63%\n",
      "YTD                  -0.91%\n",
      "1Y                   9.89%\n",
      "3Y (ann.)            7.43%\n",
      "5Y (ann.)            6.11%\n",
      "10Y (ann.)           4.21%\n",
      "Since Incep. (ann.)  4.21%\n",
      "\n",
      "Daily Sharpe         0.65\n",
      "Daily Sortino        0.97\n",
      "Daily Mean (ann.)    4.35%\n",
      "Daily Vol (ann.)     6.69%\n",
      "Daily Skew           -0.91\n",
      "Daily Kurt           6.97\n",
      "Best Day             2.28%\n",
      "Worst Day            -3.17%\n",
      "\n",
      "Monthly Sharpe       0.79\n",
      "Monthly Sortino      1.31\n",
      "Monthly Mean (ann.)  4.27%\n",
      "Monthly Vol (ann.)   5.44%\n",
      "Monthly Skew         -0.52\n",
      "Monthly Kurt         1.63\n",
      "Best Month           4.64%\n",
      "Worst Month          -4.25%\n",
      "\n",
      "Yearly Sharpe        0.60\n",
      "Yearly Sortino       4.02\n",
      "Yearly Mean          4.38%\n",
      "Yearly Vol           7.27%\n",
      "Yearly Skew          0.86\n",
      "Yearly Kurt          -0.61\n",
      "Best Year            17.28%\n",
      "Worst Year           -3.22%\n",
      "\n",
      "Avg. Drawdown        -1.12%\n",
      "Avg. Drawdown Days   32.10\n",
      "Avg. Up Month        1.26%\n",
      "Avg. Down Month      -1.04%\n",
      "Win Year %           55.56%\n",
      "Win 12m %            68.04%\n"
     ]
    }
   ],
   "source": [
    "res.display()"
   ]
  },
  {
   "cell_type": "code",
   "execution_count": 256,
   "metadata": {},
   "outputs": [
    {
     "name": "stderr",
     "output_type": "stream",
     "text": [
      "<ipython-input-256-e27a10a36ea4>:2: UserWarning:\n",
      "\n",
      "Matplotlib is currently using agg, which is a non-GUI backend, so cannot show the figure.\n",
      "\n"
     ]
    }
   ],
   "source": [
    "res.plot_security_weights()\n",
    "plt.show()"
   ]
  }
 ],
 "metadata": {
  "kernelspec": {
   "display_name": "Python 3",
   "language": "python",
   "name": "python3"
  },
  "language_info": {
   "codemirror_mode": {
    "name": "ipython",
    "version": 3
   },
   "file_extension": ".py",
   "mimetype": "text/x-python",
   "name": "python",
   "nbconvert_exporter": "python",
   "pygments_lexer": "ipython3",
   "version": "3.8.5"
  }
 },
 "nbformat": 4,
 "nbformat_minor": 4
}
